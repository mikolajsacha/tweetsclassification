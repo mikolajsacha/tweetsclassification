{
 "cells": [
  {
   "cell_type": "code",
   "execution_count": null,
   "metadata": {
    "collapsed": true
   },
   "outputs": [],
   "source": []
  },
  {
   "cell_type": "markdown",
   "metadata": {},
   "source": [
    "# Twitter classificator\n",
    "\n",
    "The aim of this project is to test several Machine Learning classification methods in the context of textual data from Twitter. Being given a tweet, we want to be able to assign it to one of a few pre-defined categories. We will achieve this by using supervised Machine Learning techniques, so we will use a training set of a couple of hundreds of manually labeled tweets. \n",
    "\n",
    "## Acquiring data\n",
    "\n",
    "First step is to acquire labeled tweets for training the model. At first, I tried searching on the Internet (I gathered three sample data sets, 'dataset1', '2' and '3'), but the data sets did not satisfy me, so I decided to gather and manually label Tweets myself.<br>\n",
    "<br>\n",
    "I defined six categories for tweets:<br>\n",
    "Music, Sport, Technology, Weather, Movies, Politics<br>\n",
    "I also created a seventh, \"Other\" category for tweets which don't fit in any of the former six.<br>\n",
    "<br>\n",
    "I used Twitter streaming API for getting all tweets in English from around the world. Then I filtered them using a set of keywords for each category (I tried to include as many keywords as possible, ~200 per category). In the end, I manually labeled those filtered tweets. This way I gathered dataset with circa 1500 Tweets (~200 per each category and ~300 labeled \"Other\")<br>\n",
    "I decided not to put the original script for acquiring data in the repository, as I don't think it is useful after getting the data set. However, there is a script for expanding the training set, of which I will tell more later.\n",
    "<br>\n",
    "The acquired data set can be found in data/gathered_dataset/external/training_set.txt file.<br>\n",
    "\n",
    "## Word Embeddings\n",
    "\n",
    "Now having a set of labeled sentences (I use the term 'sentence' interchangeably with 'tweet', although it is not strictly correct) we would want to train one of popular classification models, e. g. Neural Network or an SVM classifier. Alas, all these methods require our data to be numerical, not textual. To employ them in our problem we need to firstly get a Word Embedding to represent words from our dataset as vectors of numbers.<br>\n",
    "<br>\n",
    "We can find a few pre-trained Word Embeddings on the Internet. I have found a good list in this repository:<br>\n",
    "https://github.com/3Top/word2vec-api#where-to-get-a-pretrained-models<br>\n",
    "<br>\n",
    "By default I decided to use two embeddings for comparison:<br>\n",
    "- Google News embedding (Trained by Google, using word2vec architecture)<br>\n",
    "- Twitter embedding (Trained by GloVe, using GloVe achitecture)<br>\n",
    "\n",
    "Google News embedding contains 3 million word vectors of 300 dimensions.<br>\n",
    "Twitter embedding was trained on actual tweets, so potentially it could be a really good fit. It has several versions in terms of dimensionality, I used the largest one with 200 dimensions. I do not have information about its vocabulary size, however.<br>\n",
    "<br>\n",
    "Having at least one word embedding is required for further work. They have sizes of a couple of GB each, so they can take some time to download.<br>\n",
    "You can also try other embeddings, but it is required that GloVe embeddings are in textual form (.txt) and word2vec in binary form (.bin).<br>\n",
    "<br>\n",
    "In code, the default locations for word embeddings are:<br>\n",
    "'models/word_embeddings/google/GoogleNews-vectors-negative300.bin'<br>\n",
    "'models/word_embeddings/glove_twitter/glove.twitter.27B.200d.txt'<br>\n",
    "<br>\n",
    "You can change them by editing src/common.py file (It contains some constants which are used in scripts for testing model parameters). To do this you need to edit the WORD_EMBEDDINGS list.<br>\n",
    "<br>\n",
    "Meaning of each entry in the list is:<br>\n",
    "(word embedding class (Word2VecEmbedding/GloveEmbedding), ['relative_path_to_file', number of dimensions])<br>\n",
    "For scripts to work there needs to be at least one item in this list.<br>\n",
    "<br>\n",
    "Caution: These embeddings are loaded directly to memory. This means that they can crash on 32-bit version of Python. It is also required to have at least 8 GB RAM.<br>"
   ]
  },
  {
   "cell_type": "code",
   "execution_count": null,
   "metadata": {
    "collapsed": true
   },
   "outputs": [],
   "source": [
    "# Word2Vec allows us to see the most similar words for a given word\n",
    "from src.features.word_embeddings.word2vec_embedding import Word2VecEmbedding, run_interactive_word_embedding_test\n",
    "\n",
    "# change this line for embedding location\n",
    "model = Word2VecEmbedding('google/GoogleNews-vectors-negative300.bin', 300)\n",
    "\n",
    "# loading model to memory can take up to a few minutes\n",
    "model.build()\n",
    "\n",
    "run_interactive_word_embedding_test(model)"
   ]
  },
  {
   "cell_type": "code",
   "execution_count": null,
   "metadata": {
    "collapsed": true
   },
   "outputs": [],
   "source": [
    "# Unfortunately, with a library for GloVe model that I used it is not so easy to find the nearest words.\n",
    "# In this script we can only see raw word vectors\n",
    "from src.features.word_embeddings.glove_embedding import GloveEmbedding, run_interactive_word_embedding_test\n",
    "\n",
    "model = GloveEmbedding('glove_twitter/glove.twitter.27B.200d.txt', 200)\n",
    "model.build()\n",
    "run_interactive_word_embedding_test(model)"
   ]
  },
  {
   "cell_type": "code",
   "execution_count": null,
   "metadata": {
    "collapsed": true
   },
   "outputs": [],
   "source": [
    "# This scripts tries to visualize embedded words\n",
    "# Unfortunately, we see only 3 dimensions, so it uses PCA to reduce dimensionality of word embedding\n",
    "# PCA is trained on all words which occur in our dataset\n",
    "# Reducing number of dimensions from 300 to 3 may make our word embedding worthless\n",
    "# Maybe even in this small dimensionality we can see some patterns\n",
    "# Color of word point is based on its occurences counts in tweets from each category\n",
    "# If you run this outside the notebook in standalone python you can click on dots to see words they represent\n",
    "\n",
    "from src.visualization.visualize_word_embedding import visualize_word_embedding\n",
    "\n",
    "# You can also use GloVe embedding here\n",
    "word_emb = Word2VecEmbedding('google/GoogleNews-vectors-negative300.bin', 300)\n",
    "word_emb.build()\n",
    "\n",
    "visualize_word_embedding(word_emb)"
   ]
  },
  {
   "cell_type": "markdown",
   "metadata": {},
   "source": [
    "## Preprocessing tweets\n",
    "\n",
    "Next step is to look at tweets and see if we can preprocess them so they work better for our model. We want to convert each to tweet a list of words. As an input we have tweets which are unicode strings. I simply convert them to list of words by splitting on whitespaces. Then, I do these conversions:\n",
    " - convert all text to lowercase (I assume case does not affect meaning, also SoMe PeOPle WrItE LiKe tHiS)\n",
    " - remove hyperlinks\n",
    " - remove @UserNames (marks answer to another user's tweet)\n",
    " - remove stopwords (words like 'a', 'the' etc) - I use NLTK stopwords corpus\n",
    " - convert numbers from 0-20 to textual representation - I use 'inflect' library\n",
    " - remove words that contain non-alphanumeric characters\n",
    "\n",
    "We will also ignore words which don't exist in our Word Embedding. This filtering will be done later, because I wanted the preprocessed dataset to be a single file, fit for all embeddings and models.\n"
   ]
  },
  {
   "cell_type": "code",
   "execution_count": null,
   "metadata": {
    "collapsed": true
   },
   "outputs": [],
   "source": [
    "from src.data.dataset import run_interactive_processed_data_generation\n",
    "\n",
    "# When prompt for folder name, insert 'gathered_dataset'\n",
    "run_interactive_processed_data_generation()\n",
    "\n",
    "# data will be saved in data/gathered_dataset/processed/training_set.txt (script shows a relative path)"
   ]
  },
  {
   "cell_type": "markdown",
   "metadata": {},
   "source": [
    "## Embedding tweets\n",
    "\n",
    "We have aquired a Word Embedding which allows us to get a vector of numbers for each word. However, our training set consists of lists of words, so we need to specify how to represent a sentence (tweet) based on representations of its words. I test two different approaches:<br>\n",
    "<br>\n",
    "First is to simply concatanate word vectors, so for each sentence we get vector of size (number of words in sentence) * (size of a single word vector). To use machine learning algorithms each tweet vector must have the same size, so we need to specify a constant length of a sentence. For instance, we can decide that sentences longer than 30 words will be cut at the end and sentences shorter than 30 words will be filled with zeros.<br>\n",
    "<br>\n",
    "Second approach is not to concatanate, but sum word vectors (element-wise). This means that the size of sentence vector will be the same as the size of word vector, so we don't have to artificially cut or lengthen tweets.<br>\n",
    "<br>\n",
    "Concatanation yields longer vectors, so models will obviously need more time to compute. On the other hand, we don't lose information about order of words. However, if we look at this example we can see that in training for finding categories order of words may not be so important:<br>\n",
    "<br>\n",
    "Tweet 1: \"President Obama was great!\"<br>\n",
    "Tweet 2: \"What a great president Obama was!\"<br>\n",
    "<br>\n",
    "Both are obviously about politics and we know this whatever order of words is.<br>\n",
    "Furthermore, if we have a small training set, we may encounter only one of these tweets. In sum embedding it is not a problem, because both will have very similar representation. In concatanation embedding we may end up with a model which labels correctly only one of them. So it is not obvious which embedding is going to work better.<br>"
   ]
  },
  {
   "cell_type": "code",
   "execution_count": null,
   "metadata": {
    "collapsed": true
   },
   "outputs": [],
   "source": [
    "# 3D visualization of sentence embeddings, similar to visualization of word embeddings.\n",
    "# It transforms sentence vectors to 3 dimensions using PCA trained on them.\n",
    "# Colors of sentences align with their category\n",
    "\n",
    "from src.visualization.visualize_sentence_embeddings import visualize_sentence_embeddings\n",
    "from src.features.sentence_embeddings.sentence_embeddings import ConcatenationEmbedding, SumEmbedding\n",
    "from src.features.word_embeddings.word2vec_embedding import Word2VecEmbedding\n",
    "\n",
    "# You can also use GloVe embedding here\n",
    "# To use GloVe embedding: from src.features.word_embeddings.glove_embedding import GloveEmbedding\n",
    "word_emb = Word2VecEmbedding('google/GoogleNews-vectors-negative300.bin', 300)\n",
    "word_emb.build()\n",
    "\n",
    "sentence_embeddings = [\n",
    "    ConcatenationEmbedding,\n",
    "    SumEmbedding\n",
    "]\n",
    "\n",
    "visualize_sentence_embeddings(word_emb, sentence_embeddings)"
   ]
  },
  {
   "cell_type": "markdown",
   "metadata": {},
   "source": [
    "## Finding the best model hyperparameters\n",
    "\n",
    "I chose four standard classifiers from sklearn package to test: \n",
    " \n",
    "- SVC (SVM Classifier) \n",
    "- RandomForestClassifier \n",
    "- MLPClassifier (Multi-Layer Perceptron classifier - neural network) \n",
    "- KNeighborsClassifier (classification by k-nearest neighbors). \n",
    " \n",
    "For all these methods, I defined a set of hyperparameters to test: \n",
    " \n",
    "CLASSIFIERS_PARAMS = [<br>\n",
    "&nbsp;(SVC,<br>\n",
    "&nbsp;&nbsp;{\"C\": list(log_range(-1, 8)),<br>\n",
    "&nbsp;&nbsp;\"gamma\": list(log_range(-7, 1))}),<br>\n",
    "<br>\n",
    "&nbsp;(RandomForestClassifier,<br>\n",
    "&nbsp;&nbsp;{\"criterion\": [\"gini\", \"entropy\"],<br>\n",
    "&nbsp;&nbsp;\"min_samples_split\": [2, 5, 10, 15],<br>\n",
    "&nbsp;&nbsp;\"min_samples_leaf\": [1, 5, 10, 15],<br>\n",
    "&nbsp;&nbsp;\"max_features\": [None, \"sqrt\"]}),<br>\n",
    "<br>\n",
    "&nbsp;(MLPClassifier,<br>\n",
    "&nbsp;&nbsp;{\"alpha\": list(log_range(-5, -2)),<br>\n",
    "&nbsp;&nbsp;\"learning_rate\": [\"constant\", \"adaptive\"],<br>\n",
    "&nbsp;&nbsp;\"activation\": [\"identity\", \"logistic\", \"tanh\", \"relu\"],<br>\n",
    "&nbsp;&nbsp;\"hidden_layer_sizes\": [(100,), (100, 50)]}),<br>\n",
    "<br>\n",
    "&nbsp;(KNeighborsClassifier,<br>\n",
    "&nbsp;&nbsp;{\"n_neighbors\": [1, 2, 3, 4, 7, 10, 12, 15, 30, 50, 75, 100, 150],<br>\n",
    "&nbsp;&nbsp;\"weights\": ['uniform', 'distance']})<br>\n",
    "]<br>\n",
    " \n",
    "I test all possible combinations of these parameters, for all word embeddings' and sentence embeddings' combinations. This yields a lot of test cases. Fortunately, classifiers from sklearn package have similar interfaces, so I wrote a generic method for grid-search. This method looks more or less like this: \n",
    "\n",
    "for word_embedding in word_embbedings: \n",
    "   - build word embedding \n",
    "   for sentence_embedding in sentence_embeddings: \n",
    "       - build features using sentence embedding and word embedding \n",
    "       for classifier_class, tested_parameters in CLASSIFIERS_PARAMS: \n",
    "           - run multithreaded GridSearchCV for classifier_class and tested_parameters \n",
    "             on traing set labels and built features \n",
    "           - safe GridSearchCV results in a summary file in /summaries folder \n",
    " \n",
    "With models from sklearn we can also use GridSearchCV method from this package, which allows to perform grid search for best parameters in parallel. For each combination of parameters it saves average score in folds. I use folds count equal to 5.<br>\n",
    "<br>\n",
    "Testing all models can take up to a couple of hours. Because of this, I save grid search result in summaries folder, which is included in repository. We can use these results to get the best possible model or do some interpretation of the results.<br>\n",
    "<br>\n",
    "By viewing grid search results files we can see that the best scores are somewhere around 85%.<br>"
   ]
  },
  {
   "cell_type": "code",
   "execution_count": null,
   "metadata": {
    "collapsed": true
   },
   "outputs": [],
   "source": [
    "# run grid search on chosen models\n",
    "# consider doing a backup of text summary files from /summary folder before running this script\n",
    "\n",
    "from src.common import DATA_FOLDER, FOLDS_COUNT, CLASSIFIERS_PARAMS, \\\n",
    "                       SENTENCE_EMBEDDINGS, CLASSIFIERS_WRAPPERS, WORD_EMBEDDINGS\n",
    "from src.models.model_testing.grid_search import grid_search\n",
    "\n",
    "classifiers_to_check = []\n",
    "for classifier_class, params in CLASSIFIERS_PARAMS:\n",
    "    to_run = raw_input(\"Do you wish to test {0} with parameters {1} ? [y/n] \"\n",
    "                       .format(classifier_class.__name__, str(params)))\n",
    "    if to_run.lower() == 'y' or to_run.lower() == 'yes':\n",
    "        classifiers_to_check.append((classifier_class, params))\n",
    "\n",
    "print(\"*\" * 20 + \"\\n\")\n",
    "grid_search(DATA_FOLDER, FOLDS_COUNT,\n",
    "            word_embeddings=WORD_EMBEDDINGS,\n",
    "            sentence_embeddings=SENTENCE_EMBEDDINGS,\n",
    "            classifiers=classifiers_to_check,\n",
    "            n_jobs=-1) # uses as many threads as CPU cores"
   ]
  },
  {
   "cell_type": "code",
   "execution_count": null,
   "metadata": {
    "collapsed": true
   },
   "outputs": [],
   "source": [
    "# now that we have performed grid search, we can train model using the best parameters and test it interactively\n",
    "\n",
    "from src.common import choose_classifier, LABELS, SENTENCES\n",
    "from src.models.model_testing.grid_search import get_best_from_grid_search_results\n",
    "from src.features.build_features import FeatureBuilder\n",
    "from src.visualization.interactive import interactive_test\n",
    "\n",
    "classifier = choose_classifier() # choose classifier model\n",
    "best_parameters = get_best_from_grid_search_results(classifier) # get best parameters\n",
    "\n",
    "if best_parameters is None: exit(-1) # no grid search summary file for this model\n",
    "\n",
    "word_emb_class, word_emb_params, sen_emb_class, hyperparams = best_parameters\n",
    "\n",
    "print (\"\\nEvaluating model for word embedding: {:s}({:s}), sentence embedding: {:s} \\nHyperparameters {:s}\\n\"\n",
    "           .format(word_emb_class.__name__, ', '.join(map(str, word_emb_params)), sen_emb_class.__name__, str(hyperparams)))\n",
    "hyperparams[\"n_jobs\"] = -1 # uses as many threads as CPU cores\n",
    "\n",
    "print (\"Building word embedding...\")\n",
    "word_emb = word_emb_class(*word_emb_params)\n",
    "word_emb.build()\n",
    "\n",
    "print (\"Building sentence embedding...\")\n",
    "sen_emb = sen_emb_class()\n",
    "sen_emb.build(word_emb)\n",
    "\n",
    "print (\"Building features...\")\n",
    "\n",
    "# this helper class builds a matrix of features with provided sentence embedding\n",
    "fb = FeatureBuilder()\n",
    "fb.build(sen_emb, LABELS, SENTENCES)\n",
    "\n",
    "print (\"Building model...\")\n",
    "clf = classifier(sen_emb, probability=True, **hyperparams)\n",
    "clf.fit(fb.features, fb.labels)\n",
    "\n",
    "print (\"Model evaluated!...\\n\")\n",
    "interactive_test(clf)"
   ]
  },
  {
   "cell_type": "code",
   "execution_count": null,
   "metadata": {
    "collapsed": true
   },
   "outputs": [],
   "source": [
    "# This scripts visualizes how models work in 2D\n",
    "# It scatters training samples on a 2D space and colors backgrounds according to model prediction\n",
    "# It uses best possible parameters from grid search result file\n",
    "# I use PCA to reduce number of dimension to 2D\n",
    "# Models perform poorly in 2D, but we can see how boundaries between categories may look for different methods\n",
    "\n",
    "from src.visualization.visualize_2d import visualize_2d\n",
    "from src.features.word_embeddings.word2vec_embedding import Word2VecEmbedding\n",
    "from src.common import choose_multiple_classifiers\n",
    "\n",
    "classifier_classes = choose_multiple_classifiers()\n",
    "\n",
    "# use same word embedding for all classifiers - we don't want to load more than one embedding to RAM\n",
    "word_emb = Word2VecEmbedding('google/GoogleNews-vectors-negative300.bin', 300)\n",
    "word_emb.build()\n",
    "\n",
    "visualize_2d(word_emb, classifier_classes)\n",
    "\n",
    "# Attention: There is probably a bug in matplotlib, which causes the color of the fifth category\n",
    "# not to be drawn in the background (cyan, 'Movies' category)"
   ]
  },
  {
   "cell_type": "markdown",
   "metadata": {},
   "source": [
    "## Applying PCA\n",
    "\n",
    "Until now, I applied PCA several times to make plotting 2D or 3D figures possible. Maybe there is a chance that applying a well fit Principal Component Analysis to our data set will increase model accuracy. The possible option is to fit PCA to our sentece vectors. Then we can train model on sentence vectors transformed with PCA. With reduced number of dimensions, it is also possible that our model could work faster.<br>\n",
    "<br>\n",
    "The script below allows user to see how applying PCA to a chosen model works. It cross-validates model built on PCA with dimensions reduced to numbers distributed linearly between 1 and the initial number of dimensions.\n",
    "There is however a limit - we can't train PCA to number of dimensions which is higher than the number of training samples. So, if we have a dataset of 1500 tweets and we use 5 folds for cross-validation, that means that maximum dimensions after PCA are 1200 (4/5 * 1500). It can be an issue when we use Concatenation Embedding.<br>\n",
    "<br>\n",
    "The script measures: cross-validation scores, model training time (including fitting PCA) and average sentence prediction time for a trained model.<br>\n",
    "<br>\n",
    "My conclusion after seeing the results is that in our problem applying PCA probably wouldn't be advantegous, as there is a noticable decreasement in training speed and no apparent improvement in accuracy, as compared to model without PCA."
   ]
  },
  {
   "cell_type": "code",
   "execution_count": null,
   "metadata": {
    "collapsed": false
   },
   "outputs": [],
   "source": [
    "# training for PCA visualization may take a while, so I also use a summary file for storing the results\n",
    "from src.visualization.visualize_pca import visualize_pca\n",
    "from src.common import choose_classifier\n",
    "\n",
    "classifier_class = choose_classifier()\n",
    "visualize_pca(classifier_class, n_jobs=-1)"
   ]
  },
  {
   "cell_type": "markdown",
   "metadata": {},
   "source": [
    "## Expanding training set\n",
    "\n",
    "After having a way to choose the best parameters for a model I modified the script for mining tweets. In the beginning I used keywords to search for tweets possibly fit for the training set. This gave me quite clear tweets, but may seem my models not general, because they fit mostly to those keywords.<br>\n",
    "<br>\n",
    "The approach that I use to expand my current training set is to use a trained classification model to test tweets incoming from Twitter. I declare a threshold, for instance 0.7 and I take into consideration only these tweets, which are assigned to one category with probability more than the threshold.<br>"
   ]
  },
  {
   "cell_type": "code",
   "execution_count": null,
   "metadata": {
    "collapsed": false
   },
   "outputs": [],
   "source": [
    "from src.data.data_gathering.tweet_miner import mine_tweets\n",
    "\n",
    "# At first, we train the best possible model we have so far (searching in grid search results files)\n",
    "# Then, we run as many threads as CPU cores, or two if there is only one core.\n",
    "# First thread reads stream from Twitter API and puts all tweets in a synchronous queue.\n",
    "# Other threads read from the queue, test tweets on model\n",
    "# and if threshold requirement is met, put them in mined_tweets.txt file\n",
    "\n",
    "# by setting this flag to False we ignore tweets that are classified as \"Other\"\n",
    "include_unclassified = False\n",
    "threshold = 0.7\n",
    "\n",
    "mine_tweets(threshold, include_unclassified)\n",
    "# this method can be stopped only by killing the process"
   ]
  },
  {
   "cell_type": "code",
   "execution_count": null,
   "metadata": {
    "collapsed": true
   },
   "outputs": [],
   "source": [
    "# when we have some tweets in mined_tweets.txt, we must label them manually.\n",
    "from src.data.data_gathering.tweet_selector import select_tweets\n",
    "\n",
    "select_tweets()\n",
    "\n",
    "# Results will be stored in file selected_tweets.txt.\n",
    "# We can manually merge this file with already existing training set"
   ]
  }
 ],
 "metadata": {
  "anaconda-cloud": {},
  "kernelspec": {
   "display_name": "Python [conda root]",
   "language": "python",
   "name": "conda-root-py"
  },
  "language_info": {
   "codemirror_mode": {
    "name": "ipython",
    "version": 2
   },
   "file_extension": ".py",
   "mimetype": "text/x-python",
   "name": "python",
   "nbconvert_exporter": "python",
   "pygments_lexer": "ipython2",
   "version": "2.7.13"
  }
 },
 "nbformat": 4,
 "nbformat_minor": 2
}
